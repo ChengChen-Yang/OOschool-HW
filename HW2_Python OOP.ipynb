{
 "cells": [
  {
   "cell_type": "markdown",
   "id": "5e4e013f-672b-4ff4-b365-66915016047a",
   "metadata": {},
   "source": [
    "### 設計一個Python class 一個名為\"Student\"的類別，該類別應該包含學生的以下屬性：\n",
    "* 姓名\n",
    "* 學號\n",
    "* 年齡\n",
    "* 性別\n",
    "* 成績\n",
    "### 並在Student類別中實現以下function。\n",
    "*  建構式：__init__(self, name, student_id, age, gender): 初始化方法，用於設定學生的姓名、學號、年齡和性別。\n",
    "* set_grade(self, grade): 設定學生的成績。\n",
    "* get_grade(self): 獲取學生的成績。\n",
    "* display_student_info(self): 顯示學生的所有資訊。\n"
   ]
  },
  {
   "cell_type": "code",
   "execution_count": 1,
   "id": "3d999198-0ce1-4ad8-99fe-c6b9fb099c16",
   "metadata": {
    "tags": []
   },
   "outputs": [],
   "source": [
    "class student:\n",
    "    def __init__(self, name, student_id, age, gender):\n",
    "        self.name = name\n",
    "        self.student_id = student_id\n",
    "        self.age = age\n",
    "        self.gender = gender\n",
    "        self.grade = ''\n",
    "        \n",
    "    def set_grade(self, grade):\n",
    "        self.grade = grade\n",
    "    def get_grade(self):\n",
    "        print(self.grade)\n",
    "    def display_student_info(self):\n",
    "        print('Name:', self.name)\n",
    "        print('Stufent ID:', self.student_id)\n",
    "        print('Age:', self.age)\n",
    "        print('Gender:', self.gender)\n",
    "        print('Grade:', self.grade)\n",
    "        "
   ]
  },
  {
   "cell_type": "code",
   "execution_count": 2,
   "id": "5b17bf84-bef8-445f-af49-da023917c59f",
   "metadata": {
    "tags": []
   },
   "outputs": [],
   "source": [
    "student_1 = student('Alice', '1245', 18, 'Female')"
   ]
  },
  {
   "cell_type": "code",
   "execution_count": 3,
   "id": "381aec35-6944-4358-a25b-2bf395b5c929",
   "metadata": {
    "tags": []
   },
   "outputs": [
    {
     "data": {
      "text/plain": [
       "'Alice'"
      ]
     },
     "execution_count": 3,
     "metadata": {},
     "output_type": "execute_result"
    }
   ],
   "source": [
    "student_1.name"
   ]
  },
  {
   "cell_type": "code",
   "execution_count": 4,
   "id": "81338aea-0630-4e7e-a2c7-c6d4217f4df5",
   "metadata": {
    "tags": []
   },
   "outputs": [],
   "source": [
    "student_1.set_grade(80)"
   ]
  },
  {
   "cell_type": "code",
   "execution_count": 5,
   "id": "c685b3a1-c144-4790-9425-bfe00463a1b5",
   "metadata": {
    "tags": []
   },
   "outputs": [
    {
     "name": "stdout",
     "output_type": "stream",
     "text": [
      "80\n"
     ]
    }
   ],
   "source": [
    "student_1.get_grade()"
   ]
  },
  {
   "cell_type": "code",
   "execution_count": 6,
   "id": "a867cc9b-d9d0-4f28-97bb-7d4bcf9a70f9",
   "metadata": {
    "tags": []
   },
   "outputs": [
    {
     "name": "stdout",
     "output_type": "stream",
     "text": [
      "Name: Alice\n",
      "Stufent ID: 1245\n",
      "Age: 18\n",
      "Gender: Female\n",
      "Grade: 80\n"
     ]
    }
   ],
   "source": [
    "student_1.display_student_info()"
   ]
  },
  {
   "cell_type": "code",
   "execution_count": 7,
   "id": "42f26632-2c9e-4bc6-992d-b42a65646859",
   "metadata": {},
   "outputs": [],
   "source": [
    "student2 = student('May', '1256', 19, 'Female')"
   ]
  },
  {
   "cell_type": "code",
   "execution_count": 8,
   "id": "2262a6ed-8264-46a7-8d23-87821abb8301",
   "metadata": {
    "tags": []
   },
   "outputs": [
    {
     "name": "stdout",
     "output_type": "stream",
     "text": [
      "Name: May\n",
      "Stufent ID: 1256\n",
      "Age: 19\n",
      "Gender: Female\n",
      "Grade: \n"
     ]
    }
   ],
   "source": [
    "student2.display_student_info()"
   ]
  },
  {
   "cell_type": "code",
   "execution_count": 9,
   "id": "52c94d67-bf31-4750-b882-a5fca0bb2834",
   "metadata": {
    "tags": []
   },
   "outputs": [],
   "source": [
    "student_3 = student('Louis', '1222',  18, 'Male')"
   ]
  },
  {
   "cell_type": "code",
   "execution_count": 10,
   "id": "1e57c754-86c2-49b4-b6f4-2abf70ed415a",
   "metadata": {
    "tags": []
   },
   "outputs": [],
   "source": [
    "student_3.set_grade(60)"
   ]
  },
  {
   "cell_type": "code",
   "execution_count": 11,
   "id": "2e7e1262-8bbf-426e-97d6-625b3527cc30",
   "metadata": {
    "tags": []
   },
   "outputs": [
    {
     "name": "stdout",
     "output_type": "stream",
     "text": [
      "Name: Louis\n",
      "Stufent ID: 1222\n",
      "Age: 18\n",
      "Gender: Male\n",
      "Grade: 60\n"
     ]
    }
   ],
   "source": [
    "student_3.display_student_info()"
   ]
  },
  {
   "cell_type": "code",
   "execution_count": 12,
   "id": "92e58b56-a82f-41e1-b55a-e1952b8f8b13",
   "metadata": {
    "tags": []
   },
   "outputs": [],
   "source": [
    "student_4 = student('','','','')"
   ]
  },
  {
   "cell_type": "code",
   "execution_count": 13,
   "id": "808d5757-fbf0-4ce7-aeae-237a619c60ff",
   "metadata": {
    "tags": []
   },
   "outputs": [
    {
     "name": "stdout",
     "output_type": "stream",
     "text": [
      "Name: \n",
      "Stufent ID: \n",
      "Age: \n",
      "Gender: \n",
      "Grade: \n"
     ]
    }
   ],
   "source": [
    "student_4.display_student_info()"
   ]
  },
  {
   "cell_type": "code",
   "execution_count": null,
   "id": "38e5aaa5-4f1b-45f0-9390-e61735305982",
   "metadata": {},
   "outputs": [],
   "source": []
  }
 ],
 "metadata": {
  "kernelspec": {
   "display_name": "Python 3 (ipykernel)",
   "language": "python",
   "name": "python3"
  },
  "language_info": {
   "codemirror_mode": {
    "name": "ipython",
    "version": 3
   },
   "file_extension": ".py",
   "mimetype": "text/x-python",
   "name": "python",
   "nbconvert_exporter": "python",
   "pygments_lexer": "ipython3",
   "version": "3.10.13"
  }
 },
 "nbformat": 4,
 "nbformat_minor": 5
}
