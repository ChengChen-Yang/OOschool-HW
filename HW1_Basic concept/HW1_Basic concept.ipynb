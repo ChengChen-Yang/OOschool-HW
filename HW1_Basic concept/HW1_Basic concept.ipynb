{
 "cells": [
  {
   "cell_type": "markdown",
   "id": "960de46d-d693-4511-a782-2363856c4879",
   "metadata": {},
   "source": [
    "## Python基礎能力(I)輸入說明：\n",
    "\n",
    "第一行有一個正整數N，表示接下來有N個數字。（N<=10^6）  \n",
    "第二行有N個數字Pi。（Pi的大小在int變數型別的範圍內，也就是-2147483648~2147483647）  \n",
    "輸出說明：  \n",
    "請將輸入的N個數字順序排序後再顛倒輸出並以空白隔開。  "
   ]
  },
  {
   "cell_type": "code",
   "execution_count": 3,
   "id": "49ab6d9f-df7c-4e7e-b951-02b311424fd1",
   "metadata": {
    "tags": []
   },
   "outputs": [],
   "source": [
    "import random\n",
    "\n",
    "def RNG_sort(n, p):\n",
    "    RNG = [random.randint(1, n) for i in range(p)]\n",
    "    RNG1 = ' '.join(map(str, RNG))\n",
    "    RNG_str = sorted(RNG, reverse=True)\n",
    "    RNG_str1 = ' '.join(map(str, RNG_str))\n",
    "    print('Pick {} numbers from the range 1 to {}: {}'.format(p, n, RNG1))\n",
    "    print('Descending order:', RNG_str1)\n",
    "    return\n"
   ]
  },
  {
   "cell_type": "code",
   "execution_count": 4,
   "id": "1bdd8e88-cd88-476a-8211-f2c2706bd5e5",
   "metadata": {
    "tags": []
   },
   "outputs": [
    {
     "name": "stdout",
     "output_type": "stream",
     "text": [
      "Pick 8 numbers from the range 1 to 50: 45 24 48 25 29 40 36 1\n",
      "Descending order: 48 45 40 36 29 25 24 1\n"
     ]
    }
   ],
   "source": [
    "RNG_sort(50,8)"
   ]
  },
  {
   "cell_type": "code",
   "execution_count": null,
   "id": "3e9979fb-90e0-426d-b8e7-0d87da54c74a",
   "metadata": {},
   "outputs": [],
   "source": []
  }
 ],
 "metadata": {
  "kernelspec": {
   "display_name": "Python 3 (ipykernel)",
   "language": "python",
   "name": "python3"
  },
  "language_info": {
   "codemirror_mode": {
    "name": "ipython",
    "version": 3
   },
   "file_extension": ".py",
   "mimetype": "text/x-python",
   "name": "python",
   "nbconvert_exporter": "python",
   "pygments_lexer": "ipython3",
   "version": "3.10.13"
  }
 },
 "nbformat": 4,
 "nbformat_minor": 5
}
